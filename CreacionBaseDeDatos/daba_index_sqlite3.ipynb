{
 "cells": [
  {
   "cell_type": "markdown",
   "id": "ae820064",
   "metadata": {},
   "source": [
    "# Creación y actualiación de database\n"
   ]
  },
  {
   "cell_type": "markdown",
   "id": "7fcab023",
   "metadata": {},
   "source": [
    "### Importamos librerías"
   ]
  },
  {
   "cell_type": "code",
   "execution_count": 1,
   "id": "09eb5d5c",
   "metadata": {},
   "outputs": [
    {
     "name": "stdout",
     "output_type": "stream",
     "text": [
      "Requirement already satisfied: apscheduler in c:\\users\\robert alvarez\\anaconda3\\lib\\site-packages (3.11.0)\n",
      "Requirement already satisfied: tzlocal>=3.0 in c:\\users\\robert alvarez\\anaconda3\\lib\\site-packages (from apscheduler) (5.2)\n",
      "Requirement already satisfied: tzdata in c:\\users\\robert alvarez\\anaconda3\\lib\\site-packages (from tzlocal>=3.0->apscheduler) (2024.2)\n",
      "Requirement already satisfied: firebase-admin in c:\\users\\robert alvarez\\anaconda3\\lib\\site-packages (6.6.0)\n",
      "Requirement already satisfied: cachecontrol>=0.12.14 in c:\\users\\robert alvarez\\anaconda3\\lib\\site-packages (from firebase-admin) (0.14.2)\n",
      "Requirement already satisfied: pyjwt[crypto]>=2.5.0 in c:\\users\\robert alvarez\\anaconda3\\lib\\site-packages (from firebase-admin) (2.10.1)\n",
      "Requirement already satisfied: google-cloud-storage>=1.37.1 in c:\\users\\robert alvarez\\anaconda3\\lib\\site-packages (from firebase-admin) (2.19.0)\n",
      "Requirement already satisfied: google-api-python-client>=1.7.8 in c:\\users\\robert alvarez\\anaconda3\\lib\\site-packages (from firebase-admin) (2.157.0)\n",
      "Requirement already satisfied: google-api-core[grpc]<3.0.0dev,>=1.22.1 in c:\\users\\robert alvarez\\anaconda3\\lib\\site-packages (from firebase-admin) (2.24.0)\n",
      "Requirement already satisfied: google-cloud-firestore>=2.19.0 in c:\\users\\robert alvarez\\anaconda3\\lib\\site-packages (from firebase-admin) (2.19.0)\n",
      "Requirement already satisfied: msgpack<2.0.0,>=0.5.2 in c:\\users\\robert alvarez\\anaconda3\\lib\\site-packages (from cachecontrol>=0.12.14->firebase-admin) (1.0.3)\n",
      "Requirement already satisfied: requests>=2.16.0 in c:\\users\\robert alvarez\\anaconda3\\lib\\site-packages (from cachecontrol>=0.12.14->firebase-admin) (2.28.1)\n",
      "Requirement already satisfied: proto-plus<2.0.0dev,>=1.22.3 in c:\\users\\robert alvarez\\anaconda3\\lib\\site-packages (from google-api-core[grpc]<3.0.0dev,>=1.22.1->firebase-admin) (1.25.0)\n",
      "Requirement already satisfied: google-auth<3.0.dev0,>=2.14.1 in c:\\users\\robert alvarez\\anaconda3\\lib\\site-packages (from google-api-core[grpc]<3.0.0dev,>=1.22.1->firebase-admin) (2.37.0)\n",
      "Requirement already satisfied: googleapis-common-protos<2.0.dev0,>=1.56.2 in c:\\users\\robert alvarez\\anaconda3\\lib\\site-packages (from google-api-core[grpc]<3.0.0dev,>=1.22.1->firebase-admin) (1.66.0)\n",
      "Requirement already satisfied: protobuf!=3.20.0,!=3.20.1,!=4.21.0,!=4.21.1,!=4.21.2,!=4.21.3,!=4.21.4,!=4.21.5,<6.0.0.dev0,>=3.19.5 in c:\\users\\robert alvarez\\anaconda3\\lib\\site-packages (from google-api-core[grpc]<3.0.0dev,>=1.22.1->firebase-admin) (5.29.2)\n",
      "Requirement already satisfied: grpcio-status<2.0.dev0,>=1.33.2 in c:\\users\\robert alvarez\\anaconda3\\lib\\site-packages (from google-api-core[grpc]<3.0.0dev,>=1.22.1->firebase-admin) (1.69.0)\n",
      "Requirement already satisfied: grpcio<2.0dev,>=1.33.2 in c:\\users\\robert alvarez\\anaconda3\\lib\\site-packages (from google-api-core[grpc]<3.0.0dev,>=1.22.1->firebase-admin) (1.69.0)\n",
      "Requirement already satisfied: httplib2<1.dev0,>=0.19.0 in c:\\users\\robert alvarez\\anaconda3\\lib\\site-packages (from google-api-python-client>=1.7.8->firebase-admin) (0.22.0)\n",
      "Requirement already satisfied: uritemplate<5,>=3.0.1 in c:\\users\\robert alvarez\\anaconda3\\lib\\site-packages (from google-api-python-client>=1.7.8->firebase-admin) (4.1.1)\n",
      "Requirement already satisfied: google-auth-httplib2<1.0.0,>=0.2.0 in c:\\users\\robert alvarez\\anaconda3\\lib\\site-packages (from google-api-python-client>=1.7.8->firebase-admin) (0.2.0)\n",
      "Requirement already satisfied: google-cloud-core<3.0.0dev,>=1.4.1 in c:\\users\\robert alvarez\\anaconda3\\lib\\site-packages (from google-cloud-firestore>=2.19.0->firebase-admin) (2.4.1)\n",
      "Requirement already satisfied: google-crc32c<2.0dev,>=1.0 in c:\\users\\robert alvarez\\anaconda3\\lib\\site-packages (from google-cloud-storage>=1.37.1->firebase-admin) (1.6.0)\n",
      "Requirement already satisfied: google-resumable-media>=2.7.2 in c:\\users\\robert alvarez\\anaconda3\\lib\\site-packages (from google-cloud-storage>=1.37.1->firebase-admin) (2.7.2)\n",
      "Requirement already satisfied: cryptography>=3.4.0 in c:\\users\\robert alvarez\\anaconda3\\lib\\site-packages (from pyjwt[crypto]>=2.5.0->firebase-admin) (37.0.1)\n",
      "Requirement already satisfied: cffi>=1.12 in c:\\users\\robert alvarez\\anaconda3\\lib\\site-packages (from cryptography>=3.4.0->pyjwt[crypto]>=2.5.0->firebase-admin) (1.15.1)\n",
      "Requirement already satisfied: cachetools<6.0,>=2.0.0 in c:\\users\\robert alvarez\\anaconda3\\lib\\site-packages (from google-auth<3.0.dev0,>=2.14.1->google-api-core[grpc]<3.0.0dev,>=1.22.1->firebase-admin) (5.5.0)\n",
      "Requirement already satisfied: rsa<5,>=3.1.4 in c:\\users\\robert alvarez\\anaconda3\\lib\\site-packages (from google-auth<3.0.dev0,>=2.14.1->google-api-core[grpc]<3.0.0dev,>=1.22.1->firebase-admin) (4.9)\n",
      "Requirement already satisfied: pyasn1-modules>=0.2.1 in c:\\users\\robert alvarez\\anaconda3\\lib\\site-packages (from google-auth<3.0.dev0,>=2.14.1->google-api-core[grpc]<3.0.0dev,>=1.22.1->firebase-admin) (0.2.8)\n",
      "Requirement already satisfied: pyparsing!=3.0.0,!=3.0.1,!=3.0.2,!=3.0.3,<4,>=2.4.2 in c:\\users\\robert alvarez\\anaconda3\\lib\\site-packages (from httplib2<1.dev0,>=0.19.0->google-api-python-client>=1.7.8->firebase-admin) (3.0.9)\n",
      "Requirement already satisfied: idna<4,>=2.5 in c:\\users\\robert alvarez\\anaconda3\\lib\\site-packages (from requests>=2.16.0->cachecontrol>=0.12.14->firebase-admin) (3.3)\n",
      "Requirement already satisfied: urllib3<1.27,>=1.21.1 in c:\\users\\robert alvarez\\anaconda3\\lib\\site-packages (from requests>=2.16.0->cachecontrol>=0.12.14->firebase-admin) (1.26.11)\n",
      "Requirement already satisfied: charset-normalizer<3,>=2 in c:\\users\\robert alvarez\\anaconda3\\lib\\site-packages (from requests>=2.16.0->cachecontrol>=0.12.14->firebase-admin) (2.0.4)\n",
      "Requirement already satisfied: certifi>=2017.4.17 in c:\\users\\robert alvarez\\anaconda3\\lib\\site-packages (from requests>=2.16.0->cachecontrol>=0.12.14->firebase-admin) (2022.9.14)\n",
      "Requirement already satisfied: pycparser in c:\\users\\robert alvarez\\anaconda3\\lib\\site-packages (from cffi>=1.12->cryptography>=3.4.0->pyjwt[crypto]>=2.5.0->firebase-admin) (2.21)\n",
      "Requirement already satisfied: pyasn1<0.5.0,>=0.4.6 in c:\\users\\robert alvarez\\anaconda3\\lib\\site-packages (from pyasn1-modules>=0.2.1->google-auth<3.0.dev0,>=2.14.1->google-api-core[grpc]<3.0.0dev,>=1.22.1->firebase-admin) (0.4.8)\n"
     ]
    }
   ],
   "source": [
    "!pip install apscheduler\n",
    "!pip install firebase-admin\n"
   ]
  },
  {
   "cell_type": "code",
   "execution_count": 2,
   "id": "da6eefc6",
   "metadata": {},
   "outputs": [],
   "source": [
    "from apscheduler.schedulers.blocking import BlockingScheduler\n",
    "import logging\n",
    "import sqlite3\n",
    "import firebase_admin\n",
    "from firebase_admin import credentials, db\n",
    "import time"
   ]
  },
  {
   "cell_type": "markdown",
   "id": "9a83a31e",
   "metadata": {},
   "source": [
    "### Configurar el logging"
   ]
  },
  {
   "cell_type": "code",
   "execution_count": 3,
   "id": "b6cf18d5",
   "metadata": {},
   "outputs": [],
   "source": [
    "count = 1\n",
    "logging.basicConfig(level=logging.INFO, format='%(asctime)s - %(levelname)s - %(message)s')"
   ]
  },
  {
   "cell_type": "markdown",
   "id": "f4e3c53b",
   "metadata": {},
   "source": [
    "### Definimos la función de inicio de comunicación con FIREBASE y anexar nuevos datos en el dababase"
   ]
  },
  {
   "cell_type": "code",
   "execution_count": 4,
   "id": "ee9a4d65",
   "metadata": {},
   "outputs": [],
   "source": [
    "# Definir la función que deseas ejecutar\n",
    "def mi_tarea():\n",
    "    \n",
    "    # URL de Firebase\n",
    "    firebase_url = 'https://minstationmeteo-default-rtdb.firebaseio.com/datos.json'\n",
    "\n",
    "    # Inicializa la aplicación de Firebase con las credenciales y la URL de la base de datos\n",
    "    cred = credentials.Certificate('D:minstationmeteo-firebase-adminsdk-93gzs-fd2a7ac1fa.json')\n",
    "\n",
    "    if not firebase_admin._apps:\n",
    "        firebase_admin.initialize_app(cred, {'databaseURL': firebase_url})\n",
    "    \n",
    "    # Referencia a la base de datos\n",
    "    ref = db.reference('/datos')\n",
    "\n",
    "    # Obtener datos de Firebase\n",
    "    data = ref.get()\n",
    "    \n",
    "    #print(data['Presion Atmosferica Pa'])\n",
    "    \n",
    "    data['Presion Atmosferica Pa'] = round((data['Presion Atmosferica Pa']/1000),2)\n",
    "    #print(data['Presion Atmosferica Pa'])\n",
    "    #print('')\n",
    "    print(data)\n",
    "    \n",
    "    # Conectar a la base de datos SQLite\n",
    "    conn = sqlite3.connect('exported_data.db')\n",
    "    cursor = conn.cursor()\n",
    "\n",
    "    print(\"Data actualizada exitosamente\")\n",
    "    \n",
    "    # Insertar datos en SQLite\n",
    "    cursor.execute('''\n",
    "    INSERT INTO mi_table (Unix_Timestamp, Temp2M, RH2M, PreS, rain) VALUES (?, ?, ?, ?, ?)\n",
    "    ''', (data['timestamp'], data['Temperatura C'], data['Humedad (0-100)% RH'], data['Presion Atmosferica Pa'], data['Rain']))\n",
    "\n",
    "    # Consultar las últimas 5 filas de la tabla en el mismo orden que la base de datos\n",
    "    cursor.execute('SELECT * FROM mi_table ORDER BY ROWID DESC LIMIT 5')\n",
    "    ultimas_filas = cursor.fetchall()\n",
    "\n",
    "    # Mostrar las últimas 5 filas en el mismo orden que la base de datos\n",
    "    for fila in reversed(ultimas_filas):\n",
    "        print(fila)\n",
    "        \n",
    "    #GUARDAR EN DATABASE db\n",
    "    conn.commit()\n",
    "\n",
    "    # Cerrar la conexión\n",
    "    conn.close()"
   ]
  },
  {
   "cell_type": "markdown",
   "id": "5cef1332",
   "metadata": {},
   "source": [
    "### Ejecutamos una vez la función mi_tarea para corrobocar que funciona correctamente"
   ]
  },
  {
   "cell_type": "code",
   "execution_count": 5,
   "id": "59b6c521",
   "metadata": {},
   "outputs": [
    {
     "name": "stdout",
     "output_type": "stream",
     "text": [
      "{'Humedad (0-100)% RH': 68.6, 'Presion Atmosferica Pa': 75.42, 'Rain': 0, 'Temperatura C': 20.3, 'timestamp': 1737491999.8173292}\n",
      "Data actualizada exitosamente\n",
      "(1730728800.0, 18.14, 55.53, 75.46000000000001, 0)\n",
      "(1730732400.0, 16.91, 60.17, 75.44000000000001, 0)\n",
      "(1730736000.0, 15.36, 66.94, 75.45, 0)\n",
      "(1730739600.0, 13.6, 76.68, 75.48, 0)\n",
      "(1737491999.8173292, 20.3, 68.6, 75.42, 0)\n"
     ]
    }
   ],
   "source": [
    "mi_tarea()"
   ]
  },
  {
   "cell_type": "markdown",
   "id": "c7c7746d",
   "metadata": {},
   "source": [
    "### Creamos un scheduler\n",
    "\n",
    "#### Es una herramienta que permite programar y gestionar la ejecución de tareas en momentos específicos o a intervalos regulares. Esto es útil para automatizar procesos repetitivos, como enviar correos electrónicos diarios, realizar copias de seguridad, o actualizar bases de datos."
   ]
  },
  {
   "cell_type": "code",
   "execution_count": 6,
   "id": "bf1b5667",
   "metadata": {},
   "outputs": [],
   "source": [
    "scheduler = BlockingScheduler()\n"
   ]
  },
  {
   "cell_type": "markdown",
   "id": "b188fdf9",
   "metadata": {},
   "source": [
    "### Bucle principal, para inicializar el scheduler y se ejecute cada 15min"
   ]
  },
  {
   "cell_type": "code",
   "execution_count": 7,
   "id": "9f694577",
   "metadata": {},
   "outputs": [
    {
     "name": "stderr",
     "output_type": "stream",
     "text": [
      "2025-01-21 15:50:36,400 - INFO - Datos subidos exitosamente 2\n"
     ]
    },
    {
     "name": "stdout",
     "output_type": "stream",
     "text": [
      "{'Humedad (0-100)% RH': 73.3, 'Presion Atmosferica Pa': 75.42, 'Rain': 0, 'Temperatura C': 19.5, 'timestamp': 1737492595.7028453}\n",
      "Data actualizada exitosamente\n",
      "(1730732400.0, 16.91, 60.17, 75.44000000000001, 0)\n",
      "(1730736000.0, 15.36, 66.94, 75.45, 0)\n",
      "(1730739600.0, 13.6, 76.68, 75.48, 0)\n",
      "(1737491999.8173292, 20.3, 68.6, 75.42, 0)\n",
      "(1737492595.7028453, 19.5, 73.3, 75.42, 0)\n"
     ]
    },
    {
     "name": "stderr",
     "output_type": "stream",
     "text": [
      "2025-01-21 16:00:36,950 - INFO - Datos subidos exitosamente 3\n"
     ]
    },
    {
     "name": "stdout",
     "output_type": "stream",
     "text": [
      "{'Humedad (0-100)% RH': 75.5, 'Presion Atmosferica Pa': 75.44, 'Rain': 0, 'Temperatura C': 19.2, 'timestamp': 1737493231.218341}\n",
      "Data actualizada exitosamente\n",
      "(1730736000.0, 15.36, 66.94, 75.45, 0)\n",
      "(1730739600.0, 13.6, 76.68, 75.48, 0)\n",
      "(1737491999.8173292, 20.3, 68.6, 75.42, 0)\n",
      "(1737492595.7028453, 19.5, 73.3, 75.42, 0)\n",
      "(1737493231.218341, 19.2, 75.5, 75.44, 0)\n"
     ]
    },
    {
     "name": "stderr",
     "output_type": "stream",
     "text": [
      "2025-01-21 16:10:37,555 - INFO - Datos subidos exitosamente 4\n"
     ]
    },
    {
     "name": "stdout",
     "output_type": "stream",
     "text": [
      "{'Humedad (0-100)% RH': 77.5, 'Presion Atmosferica Pa': 75.43, 'Rain': 0, 'Temperatura C': 18.6, 'timestamp': 1737493828.330863}\n",
      "Data actualizada exitosamente\n",
      "(1730739600.0, 13.6, 76.68, 75.48, 0)\n",
      "(1737491999.8173292, 20.3, 68.6, 75.42, 0)\n",
      "(1737492595.7028453, 19.5, 73.3, 75.42, 0)\n",
      "(1737493231.218341, 19.2, 75.5, 75.44, 0)\n",
      "(1737493828.330863, 18.6, 77.5, 75.43, 0)\n"
     ]
    },
    {
     "name": "stderr",
     "output_type": "stream",
     "text": [
      "2025-01-21 16:20:38,024 - INFO - Datos subidos exitosamente 5\n"
     ]
    },
    {
     "name": "stdout",
     "output_type": "stream",
     "text": [
      "{'Humedad (0-100)% RH': 83.3, 'Presion Atmosferica Pa': 75.45, 'Rain': 0, 'Temperatura C': 17.8, 'timestamp': 1737494426.1327956}\n",
      "Data actualizada exitosamente\n",
      "(1737491999.8173292, 20.3, 68.6, 75.42, 0)\n",
      "(1737492595.7028453, 19.5, 73.3, 75.42, 0)\n",
      "(1737493231.218341, 19.2, 75.5, 75.44, 0)\n",
      "(1737493828.330863, 18.6, 77.5, 75.43, 0)\n",
      "(1737494426.1327956, 17.8, 83.3, 75.45, 0)\n"
     ]
    },
    {
     "name": "stderr",
     "output_type": "stream",
     "text": [
      "2025-01-21 16:30:38,448 - INFO - Datos subidos exitosamente 6\n"
     ]
    },
    {
     "name": "stdout",
     "output_type": "stream",
     "text": [
      "{'Humedad (0-100)% RH': 84.0, 'Presion Atmosferica Pa': 75.45, 'Rain': 0, 'Temperatura C': 17.6, 'timestamp': 1737495022.057957}\n",
      "Data actualizada exitosamente\n",
      "(1737492595.7028453, 19.5, 73.3, 75.42, 0)\n",
      "(1737493231.218341, 19.2, 75.5, 75.44, 0)\n",
      "(1737493828.330863, 18.6, 77.5, 75.43, 0)\n",
      "(1737494426.1327956, 17.8, 83.3, 75.45, 0)\n",
      "(1737495022.057957, 17.6, 84.0, 75.45, 0)\n"
     ]
    },
    {
     "name": "stderr",
     "output_type": "stream",
     "text": [
      "2025-01-21 16:40:39,225 - INFO - Datos subidos exitosamente 7\n"
     ]
    },
    {
     "name": "stdout",
     "output_type": "stream",
     "text": [
      "{'Humedad (0-100)% RH': 85.6, 'Presion Atmosferica Pa': 75.47, 'Rain': 0, 'Temperatura C': 17.3, 'timestamp': 1737495617.7078362}\n",
      "Data actualizada exitosamente\n",
      "(1737493231.218341, 19.2, 75.5, 75.44, 0)\n",
      "(1737493828.330863, 18.6, 77.5, 75.43, 0)\n",
      "(1737494426.1327956, 17.8, 83.3, 75.45, 0)\n",
      "(1737495022.057957, 17.6, 84.0, 75.45, 0)\n",
      "(1737495617.7078362, 17.3, 85.6, 75.47, 0)\n"
     ]
    },
    {
     "name": "stderr",
     "output_type": "stream",
     "text": [
      "2025-01-21 16:50:39,708 - INFO - Datos subidos exitosamente 8\n"
     ]
    },
    {
     "name": "stdout",
     "output_type": "stream",
     "text": [
      "{'Humedad (0-100)% RH': 87.0, 'Presion Atmosferica Pa': 75.47, 'Rain': 0, 'Temperatura C': 17.0, 'timestamp': 1737496213.823931}\n",
      "Data actualizada exitosamente\n",
      "(1737493828.330863, 18.6, 77.5, 75.43, 0)\n",
      "(1737494426.1327956, 17.8, 83.3, 75.45, 0)\n",
      "(1737495022.057957, 17.6, 84.0, 75.45, 0)\n",
      "(1737495617.7078362, 17.3, 85.6, 75.47, 0)\n",
      "(1737496213.823931, 17.0, 87.0, 75.47, 0)\n"
     ]
    },
    {
     "name": "stderr",
     "output_type": "stream",
     "text": [
      "2025-01-21 17:00:40,144 - INFO - Datos subidos exitosamente 9\n"
     ]
    },
    {
     "name": "stdout",
     "output_type": "stream",
     "text": [
      "{'Humedad (0-100)% RH': 90.3, 'Presion Atmosferica Pa': 75.47, 'Rain': 0, 'Temperatura C': 16.3, 'timestamp': 1737496815.3389952}\n",
      "Data actualizada exitosamente\n",
      "(1737494426.1327956, 17.8, 83.3, 75.45, 0)\n",
      "(1737495022.057957, 17.6, 84.0, 75.45, 0)\n",
      "(1737495617.7078362, 17.3, 85.6, 75.47, 0)\n",
      "(1737496213.823931, 17.0, 87.0, 75.47, 0)\n",
      "(1737496815.3389952, 16.3, 90.3, 75.47, 0)\n"
     ]
    },
    {
     "name": "stderr",
     "output_type": "stream",
     "text": [
      "2025-01-21 17:10:40,659 - INFO - Datos subidos exitosamente 10\n"
     ]
    },
    {
     "name": "stdout",
     "output_type": "stream",
     "text": [
      "{'Humedad (0-100)% RH': 89.3, 'Presion Atmosferica Pa': 75.47, 'Rain': 0, 'Temperatura C': 16.7, 'timestamp': 1737497410.9608638}\n",
      "Data actualizada exitosamente\n",
      "(1737495022.057957, 17.6, 84.0, 75.45, 0)\n",
      "(1737495617.7078362, 17.3, 85.6, 75.47, 0)\n",
      "(1737496213.823931, 17.0, 87.0, 75.47, 0)\n",
      "(1737496815.3389952, 16.3, 90.3, 75.47, 0)\n",
      "(1737497410.9608638, 16.7, 89.3, 75.47, 0)\n"
     ]
    },
    {
     "name": "stderr",
     "output_type": "stream",
     "text": [
      "2025-01-21 18:04:25,477 - INFO - Datos subidos exitosamente 11\n"
     ]
    },
    {
     "name": "stdout",
     "output_type": "stream",
     "text": [
      "{'Humedad (0-100)% RH': 88.4, 'Presion Atmosferica Pa': 75.47, 'Rain': 0, 'Temperatura C': 16.9, 'timestamp': 1737497477.1334426}\n",
      "Data actualizada exitosamente\n",
      "(1737495617.7078362, 17.3, 85.6, 75.47, 0)\n",
      "(1737496213.823931, 17.0, 87.0, 75.47, 0)\n",
      "(1737496815.3389952, 16.3, 90.3, 75.47, 0)\n",
      "(1737497410.9608638, 16.7, 89.3, 75.47, 0)\n",
      "(1737497477.1334426, 16.9, 88.4, 75.47, 0)\n"
     ]
    },
    {
     "name": "stderr",
     "output_type": "stream",
     "text": [
      "2025-01-21 18:14:26,100 - INFO - Datos subidos exitosamente 12\n"
     ]
    },
    {
     "name": "stdout",
     "output_type": "stream",
     "text": [
      "{'Humedad (0-100)% RH': 88.4, 'Presion Atmosferica Pa': 75.47, 'Rain': 0, 'Temperatura C': 16.9, 'timestamp': 1737497477.1334426}\n",
      "Data actualizada exitosamente\n",
      "(1737496213.823931, 17.0, 87.0, 75.47, 0)\n",
      "(1737496815.3389952, 16.3, 90.3, 75.47, 0)\n",
      "(1737497410.9608638, 16.7, 89.3, 75.47, 0)\n",
      "(1737497477.1334426, 16.9, 88.4, 75.47, 0)\n",
      "(1737497477.1334426, 16.9, 88.4, 75.47, 0)\n"
     ]
    },
    {
     "name": "stderr",
     "output_type": "stream",
     "text": [
      "2025-01-21 18:24:26,657 - INFO - Datos subidos exitosamente 13\n"
     ]
    },
    {
     "name": "stdout",
     "output_type": "stream",
     "text": [
      "{'Humedad (0-100)% RH': 88.4, 'Presion Atmosferica Pa': 75.47, 'Rain': 0, 'Temperatura C': 16.9, 'timestamp': 1737497477.1334426}\n",
      "Data actualizada exitosamente\n",
      "(1737496815.3389952, 16.3, 90.3, 75.47, 0)\n",
      "(1737497410.9608638, 16.7, 89.3, 75.47, 0)\n",
      "(1737497477.1334426, 16.9, 88.4, 75.47, 0)\n",
      "(1737497477.1334426, 16.9, 88.4, 75.47, 0)\n",
      "(1737497477.1334426, 16.9, 88.4, 75.47, 0)\n"
     ]
    },
    {
     "name": "stderr",
     "output_type": "stream",
     "text": [
      "2025-01-21 18:34:27,241 - INFO - Datos subidos exitosamente 14\n"
     ]
    },
    {
     "name": "stdout",
     "output_type": "stream",
     "text": [
      "{'Humedad (0-100)% RH': 88.4, 'Presion Atmosferica Pa': 75.47, 'Rain': 0, 'Temperatura C': 16.9, 'timestamp': 1737497477.1334426}\n",
      "Data actualizada exitosamente\n",
      "(1737497410.9608638, 16.7, 89.3, 75.47, 0)\n",
      "(1737497477.1334426, 16.9, 88.4, 75.47, 0)\n",
      "(1737497477.1334426, 16.9, 88.4, 75.47, 0)\n",
      "(1737497477.1334426, 16.9, 88.4, 75.47, 0)\n",
      "(1737497477.1334426, 16.9, 88.4, 75.47, 0)\n"
     ]
    },
    {
     "name": "stderr",
     "output_type": "stream",
     "text": [
      "2025-01-21 18:44:27,791 - INFO - Datos subidos exitosamente 15\n"
     ]
    },
    {
     "name": "stdout",
     "output_type": "stream",
     "text": [
      "{'Humedad (0-100)% RH': 100.0, 'Presion Atmosferica Pa': 75.55, 'Rain': 0, 'Temperatura C': 14.7, 'timestamp': 1737503028.1912937}\n",
      "Data actualizada exitosamente\n",
      "(1737497477.1334426, 16.9, 88.4, 75.47, 0)\n",
      "(1737497477.1334426, 16.9, 88.4, 75.47, 0)\n",
      "(1737497477.1334426, 16.9, 88.4, 75.47, 0)\n",
      "(1737497477.1334426, 16.9, 88.4, 75.47, 0)\n",
      "(1737503028.1912937, 14.7, 100.0, 75.55, 0)\n"
     ]
    },
    {
     "name": "stderr",
     "output_type": "stream",
     "text": [
      "2025-01-21 18:54:28,377 - INFO - Datos subidos exitosamente 16\n"
     ]
    },
    {
     "name": "stdout",
     "output_type": "stream",
     "text": [
      "{'Humedad (0-100)% RH': 100.0, 'Presion Atmosferica Pa': 75.56, 'Rain': 0, 'Temperatura C': 14.8, 'timestamp': 1737503625.6189766}\n",
      "Data actualizada exitosamente\n",
      "(1737497477.1334426, 16.9, 88.4, 75.47, 0)\n",
      "(1737497477.1334426, 16.9, 88.4, 75.47, 0)\n",
      "(1737497477.1334426, 16.9, 88.4, 75.47, 0)\n",
      "(1737503028.1912937, 14.7, 100.0, 75.55, 0)\n",
      "(1737503625.6189766, 14.8, 100.0, 75.56, 0)\n"
     ]
    },
    {
     "name": "stderr",
     "output_type": "stream",
     "text": [
      "2025-01-21 19:04:29,574 - INFO - Datos subidos exitosamente 17\n"
     ]
    },
    {
     "name": "stdout",
     "output_type": "stream",
     "text": [
      "{'Humedad (0-100)% RH': 100.0, 'Presion Atmosferica Pa': 75.57, 'Rain': 0, 'Temperatura C': 15.0, 'timestamp': 1737504226.7398233}\n",
      "Data actualizada exitosamente\n",
      "(1737497477.1334426, 16.9, 88.4, 75.47, 0)\n",
      "(1737497477.1334426, 16.9, 88.4, 75.47, 0)\n",
      "(1737503028.1912937, 14.7, 100.0, 75.55, 0)\n",
      "(1737503625.6189766, 14.8, 100.0, 75.56, 0)\n",
      "(1737504226.7398233, 15.0, 100.0, 75.57, 0)\n"
     ]
    },
    {
     "name": "stderr",
     "output_type": "stream",
     "text": [
      "2025-01-21 19:14:30,182 - INFO - Datos subidos exitosamente 18\n"
     ]
    },
    {
     "name": "stdout",
     "output_type": "stream",
     "text": [
      "{'Humedad (0-100)% RH': 100.0, 'Presion Atmosferica Pa': 75.58, 'Rain': 0, 'Temperatura C': 14.7, 'timestamp': 1737504822.6157255}\n",
      "Data actualizada exitosamente\n",
      "(1737497477.1334426, 16.9, 88.4, 75.47, 0)\n",
      "(1737503028.1912937, 14.7, 100.0, 75.55, 0)\n",
      "(1737503625.6189766, 14.8, 100.0, 75.56, 0)\n",
      "(1737504226.7398233, 15.0, 100.0, 75.57, 0)\n",
      "(1737504822.6157255, 14.7, 100.0, 75.58, 0)\n"
     ]
    },
    {
     "name": "stderr",
     "output_type": "stream",
     "text": [
      "2025-01-21 19:24:30,798 - INFO - Datos subidos exitosamente 19\n"
     ]
    },
    {
     "name": "stdout",
     "output_type": "stream",
     "text": [
      "{'Humedad (0-100)% RH': 100.0, 'Presion Atmosferica Pa': 75.59, 'Rain': 0, 'Temperatura C': 14.7, 'timestamp': 1737505420.0576122}\n",
      "Data actualizada exitosamente\n",
      "(1737503028.1912937, 14.7, 100.0, 75.55, 0)\n",
      "(1737503625.6189766, 14.8, 100.0, 75.56, 0)\n",
      "(1737504226.7398233, 15.0, 100.0, 75.57, 0)\n",
      "(1737504822.6157255, 14.7, 100.0, 75.58, 0)\n",
      "(1737505420.0576122, 14.7, 100.0, 75.59, 0)\n"
     ]
    },
    {
     "name": "stderr",
     "output_type": "stream",
     "text": [
      "2025-01-21 19:34:31,572 - INFO - Datos subidos exitosamente 20\n"
     ]
    },
    {
     "name": "stdout",
     "output_type": "stream",
     "text": [
      "{'Humedad (0-100)% RH': 100.0, 'Presion Atmosferica Pa': 75.6, 'Rain': 0, 'Temperatura C': 14.8, 'timestamp': 1737506021.2683346}\n",
      "Data actualizada exitosamente\n",
      "(1737503625.6189766, 14.8, 100.0, 75.56, 0)\n",
      "(1737504226.7398233, 15.0, 100.0, 75.57, 0)\n",
      "(1737504822.6157255, 14.7, 100.0, 75.58, 0)\n",
      "(1737505420.0576122, 14.7, 100.0, 75.59, 0)\n",
      "(1737506021.2683346, 14.8, 100.0, 75.6, 0)\n"
     ]
    },
    {
     "name": "stderr",
     "output_type": "stream",
     "text": [
      "2025-01-21 19:44:32,173 - INFO - Datos subidos exitosamente 21\n"
     ]
    },
    {
     "name": "stdout",
     "output_type": "stream",
     "text": [
      "{'Humedad (0-100)% RH': 100.0, 'Presion Atmosferica Pa': 75.63, 'Rain': 0, 'Temperatura C': 14.5, 'timestamp': 1737506617.7362952}\n",
      "Data actualizada exitosamente\n",
      "(1737504226.7398233, 15.0, 100.0, 75.57, 0)\n",
      "(1737504822.6157255, 14.7, 100.0, 75.58, 0)\n",
      "(1737505420.0576122, 14.7, 100.0, 75.59, 0)\n",
      "(1737506021.2683346, 14.8, 100.0, 75.6, 0)\n",
      "(1737506617.7362952, 14.5, 100.0, 75.63, 0)\n"
     ]
    },
    {
     "name": "stderr",
     "output_type": "stream",
     "text": [
      "2025-01-21 19:54:32,805 - INFO - Datos subidos exitosamente 22\n"
     ]
    },
    {
     "name": "stdout",
     "output_type": "stream",
     "text": [
      "{'Humedad (0-100)% RH': 100.0, 'Presion Atmosferica Pa': 75.64, 'Rain': 0, 'Temperatura C': 14.1, 'timestamp': 1737507214.2063231}\n",
      "Data actualizada exitosamente\n",
      "(1737504822.6157255, 14.7, 100.0, 75.58, 0)\n",
      "(1737505420.0576122, 14.7, 100.0, 75.59, 0)\n",
      "(1737506021.2683346, 14.8, 100.0, 75.6, 0)\n",
      "(1737506617.7362952, 14.5, 100.0, 75.63, 0)\n",
      "(1737507214.2063231, 14.1, 100.0, 75.64, 0)\n"
     ]
    },
    {
     "name": "stderr",
     "output_type": "stream",
     "text": [
      "2025-01-21 20:04:33,957 - INFO - Datos subidos exitosamente 23\n"
     ]
    },
    {
     "name": "stdout",
     "output_type": "stream",
     "text": [
      "{'Humedad (0-100)% RH': 100.0, 'Presion Atmosferica Pa': 75.65, 'Rain': 0, 'Temperatura C': 14.0, 'timestamp': 1737507810.0540345}\n",
      "Data actualizada exitosamente\n",
      "(1737505420.0576122, 14.7, 100.0, 75.59, 0)\n",
      "(1737506021.2683346, 14.8, 100.0, 75.6, 0)\n",
      "(1737506617.7362952, 14.5, 100.0, 75.63, 0)\n",
      "(1737507214.2063231, 14.1, 100.0, 75.64, 0)\n",
      "(1737507810.0540345, 14.0, 100.0, 75.65, 0)\n"
     ]
    },
    {
     "name": "stderr",
     "output_type": "stream",
     "text": [
      "2025-01-21 20:14:34,542 - INFO - Datos subidos exitosamente 24\n"
     ]
    },
    {
     "name": "stdout",
     "output_type": "stream",
     "text": [
      "{'Humedad (0-100)% RH': 100.0, 'Presion Atmosferica Pa': 75.66, 'Rain': 0, 'Temperatura C': 14.4, 'timestamp': 1737508408.0211568}\n",
      "Data actualizada exitosamente\n",
      "(1737506021.2683346, 14.8, 100.0, 75.6, 0)\n",
      "(1737506617.7362952, 14.5, 100.0, 75.63, 0)\n",
      "(1737507214.2063231, 14.1, 100.0, 75.64, 0)\n",
      "(1737507810.0540345, 14.0, 100.0, 75.65, 0)\n",
      "(1737508408.0211568, 14.4, 100.0, 75.66, 0)\n"
     ]
    },
    {
     "name": "stderr",
     "output_type": "stream",
     "text": [
      "2025-01-21 20:24:35,150 - INFO - Datos subidos exitosamente 25\n"
     ]
    },
    {
     "name": "stdout",
     "output_type": "stream",
     "text": [
      "{'Humedad (0-100)% RH': 100.0, 'Presion Atmosferica Pa': 75.67, 'Rain': 0, 'Temperatura C': 14.2, 'timestamp': 1737509004.0559192}\n",
      "Data actualizada exitosamente\n",
      "(1737506617.7362952, 14.5, 100.0, 75.63, 0)\n",
      "(1737507214.2063231, 14.1, 100.0, 75.64, 0)\n",
      "(1737507810.0540345, 14.0, 100.0, 75.65, 0)\n",
      "(1737508408.0211568, 14.4, 100.0, 75.66, 0)\n",
      "(1737509004.0559192, 14.2, 100.0, 75.67, 0)\n"
     ]
    },
    {
     "name": "stderr",
     "output_type": "stream",
     "text": [
      "2025-01-21 20:34:35,784 - INFO - Datos subidos exitosamente 26\n"
     ]
    },
    {
     "name": "stdout",
     "output_type": "stream",
     "text": [
      "{'Humedad (0-100)% RH': 100.0, 'Presion Atmosferica Pa': 75.67, 'Rain': 0, 'Temperatura C': 14.4, 'timestamp': 1737509605.1523612}\n",
      "Data actualizada exitosamente\n",
      "(1737507214.2063231, 14.1, 100.0, 75.64, 0)\n",
      "(1737507810.0540345, 14.0, 100.0, 75.65, 0)\n",
      "(1737508408.0211568, 14.4, 100.0, 75.66, 0)\n",
      "(1737509004.0559192, 14.2, 100.0, 75.67, 0)\n",
      "(1737509605.1523612, 14.4, 100.0, 75.67, 0)\n"
     ]
    },
    {
     "name": "stderr",
     "output_type": "stream",
     "text": [
      "2025-01-21 20:44:36,342 - INFO - Datos subidos exitosamente 27\n"
     ]
    },
    {
     "name": "stdout",
     "output_type": "stream",
     "text": [
      "{'Humedad (0-100)% RH': 100.0, 'Presion Atmosferica Pa': 75.68, 'Rain': 0, 'Temperatura C': 14.0, 'timestamp': 1737510267.8557272}\n",
      "Data actualizada exitosamente\n",
      "(1737507810.0540345, 14.0, 100.0, 75.65, 0)\n",
      "(1737508408.0211568, 14.4, 100.0, 75.66, 0)\n",
      "(1737509004.0559192, 14.2, 100.0, 75.67, 0)\n",
      "(1737509605.1523612, 14.4, 100.0, 75.67, 0)\n",
      "(1737510267.8557272, 14.0, 100.0, 75.68, 0)\n"
     ]
    },
    {
     "name": "stderr",
     "output_type": "stream",
     "text": [
      "2025-01-21 20:54:36,866 - INFO - Datos subidos exitosamente 28\n"
     ]
    },
    {
     "name": "stdout",
     "output_type": "stream",
     "text": [
      "{'Humedad (0-100)% RH': 100.0, 'Presion Atmosferica Pa': 75.69, 'Rain': 0, 'Temperatura C': 13.4, 'timestamp': 1737510864.0477724}\n",
      "Data actualizada exitosamente\n",
      "(1737508408.0211568, 14.4, 100.0, 75.66, 0)\n",
      "(1737509004.0559192, 14.2, 100.0, 75.67, 0)\n",
      "(1737509605.1523612, 14.4, 100.0, 75.67, 0)\n",
      "(1737510267.8557272, 14.0, 100.0, 75.68, 0)\n",
      "(1737510864.0477724, 13.4, 100.0, 75.69, 0)\n"
     ]
    },
    {
     "name": "stderr",
     "output_type": "stream",
     "text": [
      "2025-01-21 21:04:37,772 - INFO - Datos subidos exitosamente 29\n"
     ]
    },
    {
     "name": "stdout",
     "output_type": "stream",
     "text": [
      "{'Humedad (0-100)% RH': 100.0, 'Presion Atmosferica Pa': 75.7, 'Rain': 0, 'Temperatura C': 13.0, 'timestamp': 1737511415.4475331}\n",
      "Data actualizada exitosamente\n",
      "(1737509004.0559192, 14.2, 100.0, 75.67, 0)\n",
      "(1737509605.1523612, 14.4, 100.0, 75.67, 0)\n",
      "(1737510267.8557272, 14.0, 100.0, 75.68, 0)\n",
      "(1737510864.0477724, 13.4, 100.0, 75.69, 0)\n",
      "(1737511415.4475331, 13.0, 100.0, 75.7, 0)\n"
     ]
    },
    {
     "name": "stderr",
     "output_type": "stream",
     "text": [
      "2025-01-21 21:14:38,382 - INFO - Datos subidos exitosamente 30\n"
     ]
    },
    {
     "name": "stdout",
     "output_type": "stream",
     "text": [
      "{'Humedad (0-100)% RH': 100.0, 'Presion Atmosferica Pa': 75.71, 'Rain': 0, 'Temperatura C': 12.6, 'timestamp': 1737512011.571246}\n",
      "Data actualizada exitosamente\n",
      "(1737509605.1523612, 14.4, 100.0, 75.67, 0)\n",
      "(1737510267.8557272, 14.0, 100.0, 75.68, 0)\n",
      "(1737510864.0477724, 13.4, 100.0, 75.69, 0)\n",
      "(1737511415.4475331, 13.0, 100.0, 75.7, 0)\n",
      "(1737512011.571246, 12.6, 100.0, 75.71, 0)\n"
     ]
    },
    {
     "name": "stderr",
     "output_type": "stream",
     "text": [
      "2025-01-21 21:24:38,999 - INFO - Datos subidos exitosamente 31\n"
     ]
    },
    {
     "name": "stdout",
     "output_type": "stream",
     "text": [
      "{'Humedad (0-100)% RH': 100.0, 'Presion Atmosferica Pa': 75.73, 'Rain': 0, 'Temperatura C': 12.6, 'timestamp': 1737512607.1311557}\n",
      "Data actualizada exitosamente\n",
      "(1737510267.8557272, 14.0, 100.0, 75.68, 0)\n",
      "(1737510864.0477724, 13.4, 100.0, 75.69, 0)\n",
      "(1737511415.4475331, 13.0, 100.0, 75.7, 0)\n",
      "(1737512011.571246, 12.6, 100.0, 75.71, 0)\n",
      "(1737512607.1311557, 12.6, 100.0, 75.73, 0)\n"
     ]
    },
    {
     "name": "stderr",
     "output_type": "stream",
     "text": [
      "2025-01-21 21:34:39,600 - INFO - Datos subidos exitosamente 32\n"
     ]
    },
    {
     "name": "stdout",
     "output_type": "stream",
     "text": [
      "{'Humedad (0-100)% RH': 100.0, 'Presion Atmosferica Pa': 75.73, 'Rain': 0, 'Temperatura C': 13.1, 'timestamp': 1737513208.9925447}\n",
      "Data actualizada exitosamente\n",
      "(1737510864.0477724, 13.4, 100.0, 75.69, 0)\n",
      "(1737511415.4475331, 13.0, 100.0, 75.7, 0)\n",
      "(1737512011.571246, 12.6, 100.0, 75.71, 0)\n",
      "(1737512607.1311557, 12.6, 100.0, 75.73, 0)\n",
      "(1737513208.9925447, 13.1, 100.0, 75.73, 0)\n"
     ]
    },
    {
     "name": "stderr",
     "output_type": "stream",
     "text": [
      "2025-01-21 21:44:40,186 - INFO - Datos subidos exitosamente 33\n"
     ]
    },
    {
     "name": "stdout",
     "output_type": "stream",
     "text": [
      "{'Humedad (0-100)% RH': 100.0, 'Presion Atmosferica Pa': 75.74, 'Rain': 0, 'Temperatura C': 12.6, 'timestamp': 1737513873.6491382}\n",
      "Data actualizada exitosamente\n",
      "(1737511415.4475331, 13.0, 100.0, 75.7, 0)\n",
      "(1737512011.571246, 12.6, 100.0, 75.71, 0)\n",
      "(1737512607.1311557, 12.6, 100.0, 75.73, 0)\n",
      "(1737513208.9925447, 13.1, 100.0, 75.73, 0)\n",
      "(1737513873.6491382, 12.6, 100.0, 75.74, 0)\n"
     ]
    },
    {
     "name": "stderr",
     "output_type": "stream",
     "text": [
      "2025-01-21 21:54:40,754 - INFO - Datos subidos exitosamente 34\n"
     ]
    },
    {
     "name": "stdout",
     "output_type": "stream",
     "text": [
      "{'Humedad (0-100)% RH': 100.0, 'Presion Atmosferica Pa': 75.75, 'Rain': 0, 'Temperatura C': 12.1, 'timestamp': 1737514469.2480168}\n",
      "Data actualizada exitosamente\n",
      "(1737512011.571246, 12.6, 100.0, 75.71, 0)\n",
      "(1737512607.1311557, 12.6, 100.0, 75.73, 0)\n",
      "(1737513208.9925447, 13.1, 100.0, 75.73, 0)\n",
      "(1737513873.6491382, 12.6, 100.0, 75.74, 0)\n",
      "(1737514469.2480168, 12.1, 100.0, 75.75, 0)\n"
     ]
    },
    {
     "name": "stderr",
     "output_type": "stream",
     "text": [
      "2025-01-21 22:04:41,845 - INFO - Datos subidos exitosamente 35\n"
     ]
    },
    {
     "name": "stdout",
     "output_type": "stream",
     "text": [
      "{'Humedad (0-100)% RH': 100.0, 'Presion Atmosferica Pa': 75.76, 'Rain': 0, 'Temperatura C': 12.6, 'timestamp': 1737515067.5059948}\n",
      "Data actualizada exitosamente\n",
      "(1737512607.1311557, 12.6, 100.0, 75.73, 0)\n",
      "(1737513208.9925447, 13.1, 100.0, 75.73, 0)\n",
      "(1737513873.6491382, 12.6, 100.0, 75.74, 0)\n",
      "(1737514469.2480168, 12.1, 100.0, 75.75, 0)\n",
      "(1737515067.5059948, 12.6, 100.0, 75.76, 0)\n"
     ]
    },
    {
     "name": "stderr",
     "output_type": "stream",
     "text": [
      "2025-01-21 22:14:42,432 - INFO - Datos subidos exitosamente 36\n"
     ]
    },
    {
     "name": "stdout",
     "output_type": "stream",
     "text": [
      "{'Humedad (0-100)% RH': 100.0, 'Presion Atmosferica Pa': 75.76, 'Rain': 0, 'Temperatura C': 12.0, 'timestamp': 1737515664.8077586}\n",
      "Data actualizada exitosamente\n",
      "(1737513208.9925447, 13.1, 100.0, 75.73, 0)\n",
      "(1737513873.6491382, 12.6, 100.0, 75.74, 0)\n",
      "(1737514469.2480168, 12.1, 100.0, 75.75, 0)\n",
      "(1737515067.5059948, 12.6, 100.0, 75.76, 0)\n",
      "(1737515664.8077586, 12.0, 100.0, 75.76, 0)\n"
     ]
    },
    {
     "name": "stderr",
     "output_type": "stream",
     "text": [
      "2025-01-21 22:24:44,109 - INFO - Datos subidos exitosamente 37\n"
     ]
    },
    {
     "name": "stdout",
     "output_type": "stream",
     "text": [
      "{'Humedad (0-100)% RH': 100.0, 'Presion Atmosferica Pa': 75.77, 'Rain': 0, 'Temperatura C': 11.9, 'timestamp': 1737516266.0466824}\n",
      "Data actualizada exitosamente\n",
      "(1737513873.6491382, 12.6, 100.0, 75.74, 0)\n",
      "(1737514469.2480168, 12.1, 100.0, 75.75, 0)\n",
      "(1737515067.5059948, 12.6, 100.0, 75.76, 0)\n",
      "(1737515664.8077586, 12.0, 100.0, 75.76, 0)\n",
      "(1737516266.0466824, 11.9, 100.0, 75.77, 0)\n"
     ]
    },
    {
     "name": "stderr",
     "output_type": "stream",
     "text": [
      "2025-01-21 22:34:44,667 - INFO - Datos subidos exitosamente 38\n"
     ]
    },
    {
     "name": "stdout",
     "output_type": "stream",
     "text": [
      "{'Humedad (0-100)% RH': 100.0, 'Presion Atmosferica Pa': 75.78, 'Rain': 0, 'Temperatura C': 12.4, 'timestamp': 1737516861.6132507}\n",
      "Data actualizada exitosamente\n",
      "(1737514469.2480168, 12.1, 100.0, 75.75, 0)\n",
      "(1737515067.5059948, 12.6, 100.0, 75.76, 0)\n",
      "(1737515664.8077586, 12.0, 100.0, 75.76, 0)\n",
      "(1737516266.0466824, 11.9, 100.0, 75.77, 0)\n",
      "(1737516861.6132507, 12.4, 100.0, 75.78, 0)\n"
     ]
    },
    {
     "name": "stderr",
     "output_type": "stream",
     "text": [
      "2025-01-21 22:44:45,204 - INFO - Datos subidos exitosamente 39\n"
     ]
    },
    {
     "name": "stdout",
     "output_type": "stream",
     "text": [
      "{'Humedad (0-100)% RH': 100.0, 'Presion Atmosferica Pa': 75.77, 'Rain': 0, 'Temperatura C': 11.9, 'timestamp': 1737517457.436435}\n",
      "Data actualizada exitosamente\n",
      "(1737515067.5059948, 12.6, 100.0, 75.76, 0)\n",
      "(1737515664.8077586, 12.0, 100.0, 75.76, 0)\n",
      "(1737516266.0466824, 11.9, 100.0, 75.77, 0)\n",
      "(1737516861.6132507, 12.4, 100.0, 75.78, 0)\n",
      "(1737517457.436435, 11.9, 100.0, 75.77, 0)\n"
     ]
    },
    {
     "name": "stderr",
     "output_type": "stream",
     "text": [
      "2025-01-21 22:54:45,734 - INFO - Datos subidos exitosamente 40\n"
     ]
    },
    {
     "name": "stdout",
     "output_type": "stream",
     "text": [
      "{'Humedad (0-100)% RH': 100.0, 'Presion Atmosferica Pa': 75.76, 'Rain': 0, 'Temperatura C': 12.1, 'timestamp': 1737518052.983871}\n",
      "Data actualizada exitosamente\n",
      "(1737515664.8077586, 12.0, 100.0, 75.76, 0)\n",
      "(1737516266.0466824, 11.9, 100.0, 75.77, 0)\n",
      "(1737516861.6132507, 12.4, 100.0, 75.78, 0)\n",
      "(1737517457.436435, 11.9, 100.0, 75.77, 0)\n",
      "(1737518052.983871, 12.1, 100.0, 75.76, 0)\n"
     ]
    },
    {
     "name": "stderr",
     "output_type": "stream",
     "text": [
      "2025-01-21 23:04:46,707 - INFO - Datos subidos exitosamente 41\n"
     ]
    },
    {
     "name": "stdout",
     "output_type": "stream",
     "text": [
      "{'Humedad (0-100)% RH': 100.0, 'Presion Atmosferica Pa': 75.76, 'Rain': 0, 'Temperatura C': 12.2, 'timestamp': 1737518648.9908118}\n",
      "Data actualizada exitosamente\n",
      "(1737516266.0466824, 11.9, 100.0, 75.77, 0)\n",
      "(1737516861.6132507, 12.4, 100.0, 75.78, 0)\n",
      "(1737517457.436435, 11.9, 100.0, 75.77, 0)\n",
      "(1737518052.983871, 12.1, 100.0, 75.76, 0)\n",
      "(1737518648.9908118, 12.2, 100.0, 75.76, 0)\n"
     ]
    },
    {
     "name": "stderr",
     "output_type": "stream",
     "text": [
      "2025-01-22 08:31:16,605 - WARNING - Retrying (Retry(total=2, connect=None, read=None, redirect=None, status=None)) after connection broken by 'NewConnectionError('<urllib3.connection.HTTPSConnection object at 0x000001DD8A170FA0>: Failed to establish a new connection: [WinError 10051] Se ha intentado una operación de socket en una red no accesible')': /token\n",
      "2025-01-22 08:31:16,648 - WARNING - Retrying (Retry(total=1, connect=None, read=None, redirect=None, status=None)) after connection broken by 'NewConnectionError('<urllib3.connection.HTTPSConnection object at 0x000001DD8A1C5220>: Failed to establish a new connection: [Errno 11001] getaddrinfo failed')': /token\n",
      "2025-01-22 08:31:16,649 - WARNING - Retrying (Retry(total=0, connect=None, read=None, redirect=None, status=None)) after connection broken by 'NewConnectionError('<urllib3.connection.HTTPSConnection object at 0x000001DD8A1CAA30>: Failed to establish a new connection: [Errno 11001] getaddrinfo failed')': /token\n",
      "2025-01-22 08:31:16,661 - ERROR - Error al ejecutar la tarea: HTTPSConnectionPool(host='oauth2.googleapis.com', port=443): Max retries exceeded with url: /token (Caused by NewConnectionError('<urllib3.connection.HTTPSConnection object at 0x000001DD8A1CA910>: Failed to establish a new connection: [Errno 11001] getaddrinfo failed'))\n"
     ]
    }
   ],
   "source": [
    "'''\n",
    "try:\n",
    "    # Iniciar el scheduler\n",
    "    scheduler.start()\n",
    "except (KeyboardInterrupt, SystemExit):\n",
    "    pass\n",
    "'''\n",
    "\"\"\"\n",
    "try:\n",
    "    # Iniciar el scheduler\n",
    "    #scheduler.start()\n",
    "    time.sleep(60)\n",
    "    mi_tarea()\n",
    "    count += 1\n",
    "    logging.info(\"Datos subidos exitosamente %d\", count)\n",
    "except (KeyboardInterrupt, SystemExit):\n",
    "    logging.info(\"Scheduler detenido.\")\n",
    "    pass\n",
    "\"\"\"\n",
    "while True:\n",
    "    try:\n",
    "        # Esperar 60 segundos\n",
    "        time.sleep(600)\n",
    "        \n",
    "        # Ejecutar la tarea\n",
    "        mi_tarea()\n",
    "        \n",
    "        # Incrementar count\n",
    "        count += 1\n",
    "        \n",
    "        # Registrar el mensaje de éxito\n",
    "        logging.info(\"Datos subidos exitosamente %d\", count)\n",
    "    except (KeyboardInterrupt, SystemExit):\n",
    "        logging.info(\"Scheduler detenido.\")\n",
    "        break  # Salir del bucle si se interrumpe el programa\n",
    "    except Exception as e:\n",
    "        logging.error(f\"Error al ejecutar la tarea: {e}\")\n",
    "        break  # Salir del bucle si ocurre cualquier otro error"
   ]
  },
  {
   "cell_type": "markdown",
   "id": "2947c75a",
   "metadata": {},
   "source": [
    "### Programamos para que se ejecute este scheduler cada 15min y anexe nuevos datos"
   ]
  },
  {
   "cell_type": "code",
   "execution_count": null,
   "id": "fabec14e",
   "metadata": {
    "scrolled": true
   },
   "outputs": [],
   "source": [
    "#scheduler.add_job(mi_tarea, 'interval', minutes=1)\n"
   ]
  },
  {
   "cell_type": "code",
   "execution_count": null,
   "id": "33a6317e",
   "metadata": {},
   "outputs": [],
   "source": []
  },
  {
   "cell_type": "code",
   "execution_count": null,
   "id": "287fe564",
   "metadata": {},
   "outputs": [],
   "source": []
  }
 ],
 "metadata": {
  "kernelspec": {
   "display_name": "Python 3 (ipykernel)",
   "language": "python",
   "name": "python3"
  },
  "language_info": {
   "codemirror_mode": {
    "name": "ipython",
    "version": 3
   },
   "file_extension": ".py",
   "mimetype": "text/x-python",
   "name": "python",
   "nbconvert_exporter": "python",
   "pygments_lexer": "ipython3",
   "version": "3.9.13"
  }
 },
 "nbformat": 4,
 "nbformat_minor": 5
}
